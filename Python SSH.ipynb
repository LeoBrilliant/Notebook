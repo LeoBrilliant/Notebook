{
 "cells": [
  {
   "cell_type": "code",
   "execution_count": null,
   "metadata": {
    "collapsed": true
   },
   "outputs": [],
   "source": [
    "import paramiko\n",
    "import os"
   ]
  },
  {
   "cell_type": "code",
   "execution_count": null,
   "metadata": {
    "collapsed": true
   },
   "outputs": [],
   "source": [
    "# 参数配置\n",
    "host = \"192.168.1.xxx\"\n",
    "port = 22\n",
    "user = {\"root\": \"xxx\", \"xxx\":\"xxx\"}\n",
    "passwd = \"xxx\""
   ]
  },
  {
   "cell_type": "code",
   "execution_count": null,
   "metadata": {
    "collapsed": true
   },
   "outputs": [],
   "source": [
    "# 创建ssh客户端\n",
    "ssh = paramiko.SSHClient()\n",
    "# 连接陌生主机策略 - 自动添加到已知主机列表\n",
    "ssh.set_missing_host_key_policy(paramiko.AutoAddPolicy())\n",
    "# 连接到主机\n",
    "ssh.connect(host, port, user[\"root\"], passwd)"
   ]
  },
  {
   "cell_type": "code",
   "execution_count": null,
   "metadata": {
    "collapsed": true
   },
   "outputs": [],
   "source": [
    "# 执行命令，获取输入、输出、错误流\n",
    "stdin, stdout, stderr = ssh.exec_command(\"top -b -n 1\")"
   ]
  },
  {
   "cell_type": "code",
   "execution_count": null,
   "metadata": {
    "collapsed": false
   },
   "outputs": [],
   "source": [
    "# 读取输出流并打印\n",
    "print stdout.readlines()"
   ]
  },
  {
   "cell_type": "code",
   "execution_count": null,
   "metadata": {
    "collapsed": false
   },
   "outputs": [],
   "source": [
    "# 读取输出流并保存至list o中。根据经验，输出流只可遍历一次，完整遍历一次后，输出流将被清空。\n",
    "o = stdout.readlines()"
   ]
  },
  {
   "cell_type": "code",
   "execution_count": null,
   "metadata": {
    "collapsed": true
   },
   "outputs": [],
   "source": [
    "# 关闭ssh连接\n",
    "ssh.close()"
   ]
  },
  {
   "cell_type": "code",
   "execution_count": null,
   "metadata": {
    "collapsed": false
   },
   "outputs": [],
   "source": [
    "o"
   ]
  },
  {
   "cell_type": "code",
   "execution_count": null,
   "metadata": {
    "collapsed": false
   },
   "outputs": [],
   "source": [
    "len(o)"
   ]
  },
  {
   "cell_type": "code",
   "execution_count": null,
   "metadata": {
    "collapsed": false
   },
   "outputs": [],
   "source": [
    "os.listdir(\".\")"
   ]
  },
  {
   "cell_type": "code",
   "execution_count": null,
   "metadata": {
    "collapsed": true
   },
   "outputs": [],
   "source": [
    "# 创建文件传输客户端\n",
    "ftp = paramiko.Transport((host, port))\n",
    "# 连接至主机\n",
    "ftp.connect(username = user, password= passwd)\n",
    "\n",
    "# 开启sftp客户端\n",
    "sftp = paramiko.SFTPClient.from_transport(ftp)"
   ]
  },
  {
   "cell_type": "code",
   "execution_count": null,
   "metadata": {
    "collapsed": true
   },
   "outputs": [],
   "source": [
    "# 参数配置\n",
    "# 远程文件地址\n",
    "remotepath = u\"/home/xxx/EnvMgr/\"\n",
    "# 本地文件地址\n",
    "# 路径中包含中文，如果不声明是Unicode，脚本执行报错\n",
    "localpath = u\"D:\\\\工作记录\\\\xxx\\\\xxx\\\\\"\n",
    "# 本地文件地址\n",
    "fileload = \"xxx.sh\""
   ]
  },
  {
   "cell_type": "code",
   "execution_count": null,
   "metadata": {
    "collapsed": false
   },
   "outputs": [],
   "source": [
    "# 上传文件\n",
    "sftp.put(localpath + fileload, remotepath + fileload)"
   ]
  },
  {
   "cell_type": "code",
   "execution_count": null,
   "metadata": {
    "collapsed": false
   },
   "outputs": [],
   "source": [
    "# 修改文件模式\n",
    "stdin, stdout, stderr  = ssh.exec_command(u\"cd %s;chown xxx:xxx %s;chmod +x %s\" % (remotepath, fileload, fileload))\n",
    "print stdout.readlines()\n",
    "# 重新编译数据库\n",
    "stdin, stdout, stderr  = ssh.exec_command(u\"cd %s; source ../.bash_profile; ./%s\" % (remotepath, fileload))\n",
    "print stdout.readlines()"
   ]
  },
  {
   "cell_type": "code",
   "execution_count": null,
   "metadata": {
    "collapsed": true
   },
   "outputs": [],
   "source": [
    "localpath = \"./Remote.ipynb\""
   ]
  },
  {
   "cell_type": "code",
   "execution_count": null,
   "metadata": {
    "collapsed": true
   },
   "outputs": [],
   "source": [
    "# 下载文件\n",
    "sftp.get(remotepath, localpath)"
   ]
  },
  {
   "cell_type": "code",
   "execution_count": null,
   "metadata": {
    "collapsed": false
   },
   "outputs": [],
   "source": [
    "os.listdir(\".\")"
   ]
  },
  {
   "cell_type": "code",
   "execution_count": null,
   "metadata": {
    "collapsed": false
   },
   "outputs": [],
   "source": [
    "# 关闭文件传输连接\n",
    "ftp.close()"
   ]
  },
  {
   "cell_type": "code",
   "execution_count": null,
   "metadata": {
    "collapsed": false
   },
   "outputs": [],
   "source": [
    "print localpath + fileload"
   ]
  },
  {
   "cell_type": "code",
   "execution_count": null,
   "metadata": {
    "collapsed": false
   },
   "outputs": [],
   "source": [
    "os.chdir(localpath)"
   ]
  },
  {
   "cell_type": "code",
   "execution_count": null,
   "metadata": {
    "collapsed": false
   },
   "outputs": [],
   "source": [
    "os.listdir(\".\")"
   ]
  },
  {
   "cell_type": "markdown",
   "metadata": {
    "collapsed": false
   },
   "source": [
    "# 参考文献\n",
    "1. http://www.cnblogs.com/xia520pi/p/3805043.html 安装与使用\n",
    "2. http://www.cnblogs.com/ma6174/archive/2012/05/25/2508378.html 使用多线程SSH\n",
    "3. http://docs.paramiko.org/en/2.0/ paramiko官方文档\n",
    "4. http://blog.csdn.net/churximi/article/details/50365151 Python处理中文路径\n",
    "5. http://blog.csdn.net/yukin_xue/article/details/9769803 Python处理中文路径\n",
    "\n"
   ]
  }
 ],
 "metadata": {
  "kernelspec": {
   "display_name": "Python 2",
   "language": "python",
   "name": "python2"
  },
  "language_info": {
   "codemirror_mode": {
    "name": "ipython",
    "version": 2
   },
   "file_extension": ".py",
   "mimetype": "text/x-python",
   "name": "python",
   "nbconvert_exporter": "python",
   "pygments_lexer": "ipython2",
   "version": "2.7.11"
  }
 },
 "nbformat": 4,
 "nbformat_minor": 1
}
