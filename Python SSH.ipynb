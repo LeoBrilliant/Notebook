{
 "cells": [
  {
   "cell_type": "code",
   "execution_count": 50,
   "metadata": {
    "collapsed": true
   },
   "outputs": [],
   "source": [
    "import paramiko\n",
    "import os"
   ]
  },
  {
   "cell_type": "code",
   "execution_count": 71,
   "metadata": {
    "collapsed": true
   },
   "outputs": [],
   "source": [
    "# 参数配置\n",
    "host = \"172.31.112.87\"\n",
    "port = 22\n",
    "user = {\"root\": \"root\", \"oracle\":\"oracle\"}\n",
    "passwd = \"cffEx(2015)\""
   ]
  },
  {
   "cell_type": "code",
   "execution_count": 72,
   "metadata": {
    "collapsed": true
   },
   "outputs": [],
   "source": [
    "# 创建ssh客户端\n",
    "ssh = paramiko.SSHClient()\n",
    "# 连接陌生主机策略 - 自动添加到已知主机列表\n",
    "ssh.set_missing_host_key_policy(paramiko.AutoAddPolicy())\n",
    "# 连接到主机\n",
    "ssh.connect(host, port, user[\"oracle\"], passwd)"
   ]
  },
  {
   "cell_type": "code",
   "execution_count": null,
   "metadata": {
    "collapsed": true
   },
   "outputs": [],
   "source": [
    "# 执行命令，获取输入、输出、错误流\n",
    "stdin, stdout, stderr = ssh.exec_command(\"top -b -n 1\")"
   ]
  },
  {
   "cell_type": "code",
   "execution_count": null,
   "metadata": {
    "collapsed": false
   },
   "outputs": [],
   "source": [
    "# 读取输出流并打印\n",
    "print stdout.readlines()"
   ]
  },
  {
   "cell_type": "code",
   "execution_count": null,
   "metadata": {
    "collapsed": false
   },
   "outputs": [],
   "source": [
    "# 读取输出流并保存至list o中。根据经验，输出流只可遍历一次，完整遍历一次后，输出流将被清空。\n",
    "o = stdout.readlines()"
   ]
  },
  {
   "cell_type": "code",
   "execution_count": null,
   "metadata": {
    "collapsed": true
   },
   "outputs": [],
   "source": [
    "# 关闭ssh连接\n",
    "ssh.close()"
   ]
  },
  {
   "cell_type": "code",
   "execution_count": null,
   "metadata": {
    "collapsed": false
   },
   "outputs": [],
   "source": [
    "o"
   ]
  },
  {
   "cell_type": "code",
   "execution_count": null,
   "metadata": {
    "collapsed": false
   },
   "outputs": [],
   "source": [
    "len(o)"
   ]
  },
  {
   "cell_type": "code",
   "execution_count": null,
   "metadata": {
    "collapsed": false
   },
   "outputs": [],
   "source": [
    "os.listdir(\".\")"
   ]
  },
  {
   "cell_type": "code",
   "execution_count": 53,
   "metadata": {
    "collapsed": true
   },
   "outputs": [],
   "source": [
    "# 创建文件传输客户端\n",
    "ftp = paramiko.Transport((host, 22))\n",
    "# 连接至主机\n",
    "ftp.connect(username = user, password= passwd)\n",
    "\n",
    "# 开启sftp客户端\n",
    "sftp = paramiko.SFTPClient.from_transport(ftp)"
   ]
  },
  {
   "cell_type": "code",
   "execution_count": 60,
   "metadata": {
    "collapsed": true
   },
   "outputs": [],
   "source": [
    "# 参数配置\n",
    "# 远程文件地址\n",
    "remotepath = u\"/home/oracle/EnvMgr/\"\n",
    "# 本地文件地址\n",
    "# 路径中包含中文，如果不声明是Unicode，脚本执行报错\n",
    "localpath = u\"D:\\\\工作记录\\\\2016Q3版本发布\\\\AutoBuild\\\\\"\n",
    "# 本地文件地址\n",
    "fileload = \"RecompileBDBSDBRDB.sh\""
   ]
  },
  {
   "cell_type": "code",
   "execution_count": 63,
   "metadata": {
    "collapsed": false
   },
   "outputs": [
    {
     "data": {
      "text/plain": [
       "<SFTPAttributes: [ size=316 uid=0 gid=0 mode=0100644 atime=1473823687 mtime=1473823687 ]>"
      ]
     },
     "execution_count": 63,
     "metadata": {},
     "output_type": "execute_result"
    }
   ],
   "source": [
    "# 上传文件\n",
    "sftp.put(localpath + fileload, remotepath + fileload)"
   ]
  },
  {
   "cell_type": "code",
   "execution_count": 73,
   "metadata": {
    "collapsed": false
   },
   "outputs": [
    {
     "name": "stdout",
     "output_type": "stream",
     "text": [
      "[]\n",
      "[u'\\n', u'LSNRCTL for Linux: Version 11.2.0.3.0 - Production on 14-SEP-2016 11:38:25\\n', u'\\n', u'Copyright (c) 1991, 2011, Oracle.  All rights reserved.\\n', u'\\n', u'TNS-01106: Listener using listener name LISTENER has already been started\\n', u'\\n', u'SQL*Plus: Release 11.2.0.3.0 Production on Wed Sep 14 11:38:25 2016\\n', u'\\n', u'Copyright (c) 1982, 2011, Oracle.  All rights reserved.\\n', u'\\n', u'\\n', u'Connected to:\\n', u'Oracle Database 11g Enterprise Edition Release 11.2.0.3.0 - 64bit Production\\n', u'With the Partitioning, OLAP, Data Mining and Real Application Testing options\\n', u'\\n', u'SQL> \\n', u'TIMESTAMP\\n', u'--------------------------------------------------------------------------------\\n', u'COMP_TIMESTAMP UTLRP_BGN  2016-09-14 11:38:26\\n', u'\\n', u'DOC>   The following PL/SQL block invokes UTL_RECOMP to recompile invalid\\n', u'DOC>   objects in the database. Recompilation time is proportional to the\\n', u'DOC>   number of invalid objects in the database, so this command may take\\n', u'DOC>   a long time to execute on a database with a large number of invalid\\n', u'DOC>   objects.\\n', u'DOC>\\n', u'DOC>   Use the following queries to track recompilation progress:\\n', u'DOC>\\n', u'DOC>   1. Query returning the number of invalid objects remaining. This\\n', u'DOC>\\t  number should decrease with time.\\n', u'DOC>\\t     SELECT COUNT(*) FROM obj$ WHERE status IN (4, 5, 6);\\n', u'DOC>\\n', u'DOC>   2. Query returning the number of objects compiled so far. This number\\n', u'DOC>\\t  should increase with time.\\n', u'DOC>\\t     SELECT COUNT(*) FROM UTL_RECOMP_COMPILED;\\n', u'DOC>\\n', u'DOC>   This script automatically chooses serial or parallel recompilation\\n', u'DOC>   based on the number of CPUs available (parameter cpu_count) multiplied\\n', u'DOC>   by the number of threads per CPU (parameter parallel_threads_per_cpu).\\n', u'DOC>   On RAC, this number is added across all RAC nodes.\\n', u'DOC>\\n', u'DOC>   UTL_RECOMP uses DBMS_SCHEDULER to create jobs for parallel\\n', u'DOC>   recompilation. Jobs are created without instance affinity so that they\\n', u'DOC>   can migrate across RAC nodes. Use the following queries to verify\\n', u'DOC>   whether UTL_RECOMP jobs are being created and run correctly:\\n', u'DOC>\\n', u'DOC>   1. Query showing jobs created by UTL_RECOMP\\n', u'DOC>\\t     SELECT job_name FROM dba_scheduler_jobs\\n', u\"DOC>\\t\\tWHERE job_name like 'UTL_RECOMP_SLAVE_%';\\n\", u'DOC>\\n', u'DOC>   2. Query showing UTL_RECOMP jobs that are running\\n', u'DOC>\\t     SELECT job_name FROM dba_scheduler_running_jobs\\n', u\"DOC>\\t\\tWHERE job_name like 'UTL_RECOMP_SLAVE_%';\\n\", u'DOC>#\\n', u'\\n', u'PL/SQL procedure successfully completed.\\n', u'\\n', u'\\n', u'TIMESTAMP\\n', u'--------------------------------------------------------------------------------\\n', u'COMP_TIMESTAMP UTLRP_END  2016-09-14 11:38:48\\n', u'\\n', u'DOC> The following query reports the number of objects that have compiled\\n', u'DOC> with errors (objects that compile with errors have status set to 3 in\\n', u'DOC> obj$). If the number is higher than expected, please examine the error\\n', u'DOC> messages reported with each object (using SHOW ERRORS) to see if they\\n', u'DOC> point to system misconfiguration or resource constraints that must be\\n', u'DOC> fixed before attempting to recompile these objects.\\n', u'DOC>#\\n', u'\\n', u'OBJECTS WITH ERRORS\\n', u'-------------------\\n', u'\\t\\t  0\\n', u'\\n', u'DOC> The following query reports the number of errors caught during\\n', u'DOC> recompilation. If this number is non-zero, please query the error\\n', u'DOC> messages in the table UTL_RECOMP_ERRORS to see if any of these errors\\n', u'DOC> are due to misconfiguration or resource constraints that must be\\n', u'DOC> fixed before objects can compile successfully.\\n', u'DOC>#\\n', u'\\n', u'ERRORS DURING RECOMPILATION\\n', u'---------------------------\\n', u'\\t\\t\\t  0\\n', u'\\n', u'\\n', u'Function created.\\n', u'\\n', u'\\n', u'PL/SQL procedure successfully completed.\\n', u'\\n', u'\\n', u'Function dropped.\\n', u'\\n', u'FAILED CHECK FOR PACKAGE BODY WWV_FLOW_HELP\\n', u'\\n', u'PL/SQL procedure successfully completed.\\n', u'\\n', u'SQL> Disconnected from Oracle Database 11g Enterprise Edition Release 11.2.0.3.0 - 64bit Production\\n', u'With the Partitioning, OLAP, Data Mining and Real Application Testing options\\n', u'\\n', u'SQL*Plus: Release 11.2.0.3.0 Production on Wed Sep 14 11:38:51 2016\\n', u'\\n', u'Copyright (c) 1982, 2011, Oracle.  All rights reserved.\\n', u'\\n', u'\\n', u'Connected to:\\n', u'Oracle Database 11g Enterprise Edition Release 11.2.0.3.0 - 64bit Production\\n', u'With the Partitioning, OLAP, Data Mining and Real Application Testing options\\n', u'\\n', u'SQL> \\n', u'TIMESTAMP\\n', u'--------------------------------------------------------------------------------\\n', u'COMP_TIMESTAMP UTLRP_BGN  2016-09-14 11:38:51\\n', u'\\n', u'DOC>   The following PL/SQL block invokes UTL_RECOMP to recompile invalid\\n', u'DOC>   objects in the database. Recompilation time is proportional to the\\n', u'DOC>   number of invalid objects in the database, so this command may take\\n', u'DOC>   a long time to execute on a database with a large number of invalid\\n', u'DOC>   objects.\\n', u'DOC>\\n', u'DOC>   Use the following queries to track recompilation progress:\\n', u'DOC>\\n', u'DOC>   1. Query returning the number of invalid objects remaining. This\\n', u'DOC>\\t  number should decrease with time.\\n', u'DOC>\\t     SELECT COUNT(*) FROM obj$ WHERE status IN (4, 5, 6);\\n', u'DOC>\\n', u'DOC>   2. Query returning the number of objects compiled so far. This number\\n', u'DOC>\\t  should increase with time.\\n', u'DOC>\\t     SELECT COUNT(*) FROM UTL_RECOMP_COMPILED;\\n', u'DOC>\\n', u'DOC>   This script automatically chooses serial or parallel recompilation\\n', u'DOC>   based on the number of CPUs available (parameter cpu_count) multiplied\\n', u'DOC>   by the number of threads per CPU (parameter parallel_threads_per_cpu).\\n', u'DOC>   On RAC, this number is added across all RAC nodes.\\n', u'DOC>\\n', u'DOC>   UTL_RECOMP uses DBMS_SCHEDULER to create jobs for parallel\\n', u'DOC>   recompilation. Jobs are created without instance affinity so that they\\n', u'DOC>   can migrate across RAC nodes. Use the following queries to verify\\n', u'DOC>   whether UTL_RECOMP jobs are being created and run correctly:\\n', u'DOC>\\n', u'DOC>   1. Query showing jobs created by UTL_RECOMP\\n', u'DOC>\\t     SELECT job_name FROM dba_scheduler_jobs\\n', u\"DOC>\\t\\tWHERE job_name like 'UTL_RECOMP_SLAVE_%';\\n\", u'DOC>\\n', u'DOC>   2. Query showing UTL_RECOMP jobs that are running\\n', u'DOC>\\t     SELECT job_name FROM dba_scheduler_running_jobs\\n', u\"DOC>\\t\\tWHERE job_name like 'UTL_RECOMP_SLAVE_%';\\n\", u'DOC>#\\n', u'\\n', u'PL/SQL procedure successfully completed.\\n', u'\\n', u'\\n', u'TIMESTAMP\\n', u'--------------------------------------------------------------------------------\\n', u'COMP_TIMESTAMP UTLRP_END  2016-09-14 11:38:53\\n', u'\\n', u'DOC> The following query reports the number of objects that have compiled\\n', u'DOC> with errors (objects that compile with errors have status set to 3 in\\n', u'DOC> obj$). If the number is higher than expected, please examine the error\\n', u'DOC> messages reported with each object (using SHOW ERRORS) to see if they\\n', u'DOC> point to system misconfiguration or resource constraints that must be\\n', u'DOC> fixed before attempting to recompile these objects.\\n', u'DOC>#\\n', u'\\n', u'OBJECTS WITH ERRORS\\n', u'-------------------\\n', u'\\t\\t  0\\n', u'\\n', u'DOC> The following query reports the number of errors caught during\\n', u'DOC> recompilation. If this number is non-zero, please query the error\\n', u'DOC> messages in the table UTL_RECOMP_ERRORS to see if any of these errors\\n', u'DOC> are due to misconfiguration or resource constraints that must be\\n', u'DOC> fixed before objects can compile successfully.\\n', u'DOC>#\\n', u'\\n', u'ERRORS DURING RECOMPILATION\\n', u'---------------------------\\n', u'\\t\\t\\t  0\\n', u'\\n', u'\\n', u'Function created.\\n', u'\\n', u'\\n', u'PL/SQL procedure successfully completed.\\n', u'\\n', u'\\n', u'Function dropped.\\n', u'\\n', u'FAILED CHECK FOR PACKAGE BODY WWV_FLOW_HELP\\n', u'\\n', u'PL/SQL procedure successfully completed.\\n', u'\\n', u'SQL> Disconnected from Oracle Database 11g Enterprise Edition Release 11.2.0.3.0 - 64bit Production\\n', u'With the Partitioning, OLAP, Data Mining and Real Application Testing options\\n', u'\\n', u'SQL*Plus: Release 11.2.0.3.0 Production on Wed Sep 14 11:38:56 2016\\n', u'\\n', u'Copyright (c) 1982, 2011, Oracle.  All rights reserved.\\n', u'\\n', u'\\n', u'Connected to:\\n', u'Oracle Database 11g Enterprise Edition Release 11.2.0.3.0 - 64bit Production\\n', u'With the Partitioning, OLAP, Data Mining and Real Application Testing options\\n', u'\\n', u'SQL> \\n', u'TIMESTAMP\\n', u'--------------------------------------------------------------------------------\\n', u'COMP_TIMESTAMP UTLRP_BGN  2016-09-14 11:38:56\\n', u'\\n', u'DOC>   The following PL/SQL block invokes UTL_RECOMP to recompile invalid\\n', u'DOC>   objects in the database. Recompilation time is proportional to the\\n', u'DOC>   number of invalid objects in the database, so this command may take\\n', u'DOC>   a long time to execute on a database with a large number of invalid\\n', u'DOC>   objects.\\n', u'DOC>\\n', u'DOC>   Use the following queries to track recompilation progress:\\n', u'DOC>\\n', u'DOC>   1. Query returning the number of invalid objects remaining. This\\n', u'DOC>\\t  number should decrease with time.\\n', u'DOC>\\t     SELECT COUNT(*) FROM obj$ WHERE status IN (4, 5, 6);\\n', u'DOC>\\n', u'DOC>   2. Query returning the number of objects compiled so far. This number\\n', u'DOC>\\t  should increase with time.\\n', u'DOC>\\t     SELECT COUNT(*) FROM UTL_RECOMP_COMPILED;\\n', u'DOC>\\n', u'DOC>   This script automatically chooses serial or parallel recompilation\\n', u'DOC>   based on the number of CPUs available (parameter cpu_count) multiplied\\n', u'DOC>   by the number of threads per CPU (parameter parallel_threads_per_cpu).\\n', u'DOC>   On RAC, this number is added across all RAC nodes.\\n', u'DOC>\\n', u'DOC>   UTL_RECOMP uses DBMS_SCHEDULER to create jobs for parallel\\n', u'DOC>   recompilation. Jobs are created without instance affinity so that they\\n', u'DOC>   can migrate across RAC nodes. Use the following queries to verify\\n', u'DOC>   whether UTL_RECOMP jobs are being created and run correctly:\\n', u'DOC>\\n', u'DOC>   1. Query showing jobs created by UTL_RECOMP\\n', u'DOC>\\t     SELECT job_name FROM dba_scheduler_jobs\\n', u\"DOC>\\t\\tWHERE job_name like 'UTL_RECOMP_SLAVE_%';\\n\", u'DOC>\\n', u'DOC>   2. Query showing UTL_RECOMP jobs that are running\\n', u'DOC>\\t     SELECT job_name FROM dba_scheduler_running_jobs\\n', u\"DOC>\\t\\tWHERE job_name like 'UTL_RECOMP_SLAVE_%';\\n\", u'DOC>#\\n', u'\\n', u'PL/SQL procedure successfully completed.\\n', u'\\n', u'\\n', u'TIMESTAMP\\n', u'--------------------------------------------------------------------------------\\n', u'COMP_TIMESTAMP UTLRP_END  2016-09-14 11:39:05\\n', u'\\n', u'DOC> The following query reports the number of objects that have compiled\\n', u'DOC> with errors (objects that compile with errors have status set to 3 in\\n', u'DOC> obj$). If the number is higher than expected, please examine the error\\n', u'DOC> messages reported with each object (using SHOW ERRORS) to see if they\\n', u'DOC> point to system misconfiguration or resource constraints that must be\\n', u'DOC> fixed before attempting to recompile these objects.\\n', u'DOC>#\\n', u'\\n', u'OBJECTS WITH ERRORS\\n', u'-------------------\\n', u'\\t\\t  0\\n', u'\\n', u'DOC> The following query reports the number of errors caught during\\n', u'DOC> recompilation. If this number is non-zero, please query the error\\n', u'DOC> messages in the table UTL_RECOMP_ERRORS to see if any of these errors\\n', u'DOC> are due to misconfiguration or resource constraints that must be\\n', u'DOC> fixed before objects can compile successfully.\\n', u'DOC>#\\n', u'\\n', u'ERRORS DURING RECOMPILATION\\n', u'---------------------------\\n', u'\\t\\t\\t  0\\n', u'\\n', u'\\n', u'Function created.\\n', u'\\n', u'\\n', u'PL/SQL procedure successfully completed.\\n', u'\\n', u'\\n', u'Function dropped.\\n', u'\\n', u'FAILED CHECK FOR PACKAGE BODY WWV_FLOW_HELP\\n', u'\\n', u'PL/SQL procedure successfully completed.\\n', u'\\n', u'SQL> Disconnected from Oracle Database 11g Enterprise Edition Release 11.2.0.3.0 - 64bit Production\\n', u'With the Partitioning, OLAP, Data Mining and Real Application Testing options\\n']\n"
     ]
    }
   ],
   "source": [
    "# 修改文件模式\n",
    "stdin, stdout, stderr  = ssh.exec_command(u\"cd %s;chown oracle:oinstall %s;chmod +x %s\" % (remotepath, fileload, fileload))\n",
    "print stdout.readlines()\n",
    "# 重新编译数据库\n",
    "stdin, stdout, stderr  = ssh.exec_command(u\"cd %s; source ../.bash_profile; ./%s\" % (remotepath, fileload))\n",
    "print stdout.readlines()"
   ]
  },
  {
   "cell_type": "code",
   "execution_count": null,
   "metadata": {
    "collapsed": true
   },
   "outputs": [],
   "source": [
    "localpath = \"./Remote.ipynb\""
   ]
  },
  {
   "cell_type": "code",
   "execution_count": null,
   "metadata": {
    "collapsed": true
   },
   "outputs": [],
   "source": [
    "# 下载文件\n",
    "sftp.get(remotepath, localpath)"
   ]
  },
  {
   "cell_type": "code",
   "execution_count": null,
   "metadata": {
    "collapsed": false
   },
   "outputs": [],
   "source": [
    "os.listdir(\".\")"
   ]
  },
  {
   "cell_type": "code",
   "execution_count": null,
   "metadata": {
    "collapsed": false
   },
   "outputs": [],
   "source": [
    "# 关闭文件传输连接\n",
    "ftp.close()"
   ]
  },
  {
   "cell_type": "code",
   "execution_count": 58,
   "metadata": {
    "collapsed": false
   },
   "outputs": [
    {
     "name": "stdout",
     "output_type": "stream",
     "text": [
      "D:\\工作记录\\2016Q3版本发布\\AutoBuild\\RecompileBDBSDBRDB.sh\n"
     ]
    }
   ],
   "source": [
    "print localpath + fileload"
   ]
  },
  {
   "cell_type": "code",
   "execution_count": 61,
   "metadata": {
    "collapsed": false
   },
   "outputs": [],
   "source": [
    "os.chdir(localpath)"
   ]
  },
  {
   "cell_type": "code",
   "execution_count": 62,
   "metadata": {
    "collapsed": false
   },
   "outputs": [
    {
     "data": {
      "text/plain": [
       "['addMemberServiceUser.sql',\n",
       " 'addtestUser.sql',\n",
       " 'build.properties',\n",
       " 'build.xml',\n",
       " 'cli',\n",
       " 'commit_2016Q3',\n",
       " 'DeleteArchiveLogBDBSDBRDB.sh',\n",
       " 'input.txt',\n",
       " 'interface_upload.bat',\n",
       " 'postInvokeDB.sh',\n",
       " 'RecompileBDBSDBRDB.sh',\n",
       " 'src_2016Q3']"
      ]
     },
     "execution_count": 62,
     "metadata": {},
     "output_type": "execute_result"
    }
   ],
   "source": [
    "os.listdir(\".\")"
   ]
  },
  {
   "cell_type": "code",
   "execution_count": 65,
   "metadata": {
    "collapsed": false
   },
   "outputs": [
    {
     "data": {
      "text/plain": [
       "u'cd /home/oracle/EnvMgr/;chmod +x RecompileBDBSDBRDB.sh'"
      ]
     },
     "execution_count": 65,
     "metadata": {},
     "output_type": "execute_result"
    }
   ],
   "source": []
  },
  {
   "cell_type": "code",
   "execution_count": null,
   "metadata": {
    "collapsed": true
   },
   "outputs": [],
   "source": []
  }
 ],
 "metadata": {
  "kernelspec": {
   "display_name": "Python 2",
   "language": "python",
   "name": "python2"
  },
  "language_info": {
   "codemirror_mode": {
    "name": "ipython",
    "version": 2
   },
   "file_extension": ".py",
   "mimetype": "text/x-python",
   "name": "python",
   "nbconvert_exporter": "python",
   "pygments_lexer": "ipython2",
   "version": "2.7.10"
  }
 },
 "nbformat": 4,
 "nbformat_minor": 1
}
